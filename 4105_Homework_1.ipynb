{
  "nbformat": 4,
  "nbformat_minor": 0,
  "metadata": {
    "colab": {
      "provenance": []
    },
    "kernelspec": {
      "name": "python3",
      "display_name": "Python 3"
    },
    "language_info": {
      "name": "python"
    }
  },
  "cells": [
    {
      "cell_type": "code",
      "execution_count": 1,
      "metadata": {
        "id": "WYyag1_u6q2R"
      },
      "outputs": [],
      "source": [
        "import numpy as np \n",
        "import pandas as pd \n",
        "import matplotlib.pyplot as plt\n",
        "from sklearn import preprocessing"
      ]
    },
    {
      "cell_type": "code",
      "source": [
        "df =pd.read_csv('/content/Housing.csv')\n",
        "df.head() # To get first n rows from the dataset default value of n is 5 \n",
        "M=len(df)\n",
        "print(M)\n",
        "\n",
        "extraInputs = True\n",
        "normalizedData = False\n",
        "standardizedData = True\n",
        "trainingPercent = 0.8 \n",
        "iterations = 1500\n",
        "alpha = 0.005\n",
        "regularization = 0.1 #don't use with a trainingPercent val of 0.5!\n",
        "\n",
        "\n",
        "numTrainingRows= int(len(df)*trainingPercent)\n",
        "print(numTrainingRows)"
      ],
      "metadata": {
        "colab": {
          "base_uri": "https://localhost:8080/"
        },
        "id": "dgyjvHnh65EI",
        "outputId": "2cd5b2fe-1c76-47bd-c157-0ff7a339149c"
      },
      "execution_count": 2,
      "outputs": [
        {
          "output_type": "stream",
          "name": "stdout",
          "text": [
            "545\n",
            "436\n"
          ]
        }
      ]
    },
    {
      "cell_type": "code",
      "source": [
        "def stringToInt(input):\n",
        "  return [1 if i == 'yes' else 0 for i in input]"
      ],
      "metadata": {
        "id": "GNlivHLo5sEM"
      },
      "execution_count": 3,
      "outputs": []
    },
    {
      "cell_type": "code",
      "source": [
        "def normalize(input):\n",
        "    return [(i - min(input)) / (max(input) - min(input)) for i in input]"
      ],
      "metadata": {
        "id": "lisM3ze5ZmDC"
      },
      "execution_count": 4,
      "outputs": []
    },
    {
      "cell_type": "code",
      "source": [
        "def standardize(input):\n",
        "  mean = sum(input) / len(input)\n",
        "  stddev = ( sum([((i - mean) ** 2) for i in input]) / len(input) ) ** 0.5\n",
        "  return [(i - mean) / stddev for i in input]"
      ],
      "metadata": {
        "id": "-PBJCrwcsGS9"
      },
      "execution_count": 5,
      "outputs": []
    },
    {
      "cell_type": "code",
      "source": [
        "def computeCost(xFeatures, y, theta): \n",
        "  \"\"\" \n",
        "  Compute cost for linear regression. \n",
        " \n",
        "  Input Parameters \n",
        "  ---------------- \n",
        "  X : 2D array where each row represent the training example and each column represent \n",
        "      m= number of training examples \n",
        "      n= number of features (including X_0 column of ones) \n",
        "  y : 1D array of labels/target value for each traing example. dimension(1 x m) \n",
        " \n",
        "  theta : 1D array of fitting parameters or weights. Dimension (1 x n) \n",
        " \n",
        "  Output Parameters \n",
        "  ----------------- \n",
        "  J : Scalar value. \n",
        "  \"\"\" \n",
        "  predictions = xFeatures.dot(theta)\n",
        "  \n",
        "  errors = np.subtract(predictions, y) \n",
        "  sqrErrors = np.square(errors)\n",
        "\n",
        "  #checks if this is being ran on the training or validation rows\n",
        "  #if it's being ran on the training data, the regularization penalty is added to the cost\n",
        "  #theta[1:] is taken so as to not include theta[0], or the offset, in the penalty\n",
        "  if len(xFeatures) == numTrainingRows:\n",
        "    regularizationPenalty = regularization * np.sum(np.square(theta[1:]))\n",
        "  else:\n",
        "    regularizationPenalty = 0\n",
        "\n",
        "  J = 1 / (2 * numTrainingRows) * (np.sum(sqrErrors) + regularizationPenalty)\n",
        "\n",
        "  \n",
        "  return J "
      ],
      "metadata": {
        "id": "_ohcnydAELjF"
      },
      "execution_count": 6,
      "outputs": []
    },
    {
      "cell_type": "code",
      "source": [
        "def gradientDescent(X, y, theta, alpha, iterations): \n",
        "  \"\"\" \n",
        "  Compute cost for linear regression. \n",
        " \n",
        "  Input Parameters \n",
        "  ---------------- \n",
        "  X : 2D array where each row represent the training example and each column represent \n",
        "      m= number of training examples \n",
        "      n= number of features (including X_0 column of ones) \n",
        "  y : 1D array of labels/target value for each traing example. dimension(m x 1) \n",
        "  theta : 1D array of fitting parameters or weights. Dimension (1 x n) \n",
        "  alpha : Learning rate. Scalar value \n",
        "  iterations: No of iterations. Scalar value.  \n",
        " \n",
        "  Output Parameters \n",
        "  ----------------- \n",
        "  theta : Final Value. 1D array of fitting parameters or weights. Dimension (1 x n) \n",
        "  costHistory: Conatins value of cost for each iteration. 1D array. Dimansion(m x 1)  \"\"\" \n",
        "  costHistory = np.zeros(iterations)\n",
        "  thetaHistory= np.zeros((iterations, features.shape[1]))\n",
        " \n",
        "  for i in range(iterations): \n",
        "    predictions = X.dot(theta) \n",
        "    errors = np.subtract(predictions, y) \n",
        "    sum_delta = (alpha / numTrainingRows) * X.transpose().dot(errors);\n",
        "    thetaHistory[i] = theta\n",
        "    theta = theta - sum_delta; \n",
        "    costHistory[i] = computeCost(X, y, theta)   \n",
        " \n",
        "  return theta, costHistory ,thetaHistory"
      ],
      "metadata": {
        "id": "wY-zmFsJFJ3O"
      },
      "execution_count": 7,
      "outputs": []
    },
    {
      "cell_type": "code",
      "source": [
        "area = df.values[:, 1]\n",
        "bedrooms = df.values[:, 2]\n",
        "bathrooms = df.values[:, 3]\n",
        "stories = df.values[:, 4]\n",
        "parking = df.values[:, 10]\n",
        "\n",
        "\n",
        "pricesTraining = df.values[:numTrainingRows, 0]\n",
        "pricesValidation = df.values[numTrainingRows:,0]\n",
        "print('area = ', area[:5])\n",
        "print('bedrooms = ', bedrooms[: 5])\n",
        "print('bathrooms = ', bathrooms[: 5])\n",
        "print('stories = ', stories[: 5]) \n",
        "print('parking = ', parking[: 5])\n",
        "print('training prices = ', pricesTraining[: 5])\n",
        "print('validation prices = ', pricesValidation[: 5])\n",
        "\n",
        "if extraInputs == True:\n",
        "  mainroad = stringToInt(df.values[:, 5])\n",
        "  guestroom = stringToInt(df.values[:, 6])\n",
        "  basement = stringToInt(df.values[:, 7])\n",
        "  hotwaterheating = stringToInt(df.values[:, 8])\n",
        "  airconditioning = stringToInt(df.values[:, 9])\n",
        "  prefarea = stringToInt(df.values[:, 11])\n",
        "\n",
        "\n",
        "\n",
        "  print('mainroad = ', mainroad[:5])\n",
        "  print('guestroom = ', guestroom[:5])\n",
        "  print('basement = ', basement[:5])\n",
        "  print('hotwaterheating = ', hotwaterheating[:5])\n",
        "  print('airconditioning = ', airconditioning[:5])\n",
        "  print('prefarea = ', prefarea[:5])"
      ],
      "metadata": {
        "colab": {
          "base_uri": "https://localhost:8080/"
        },
        "id": "GLiDY5Yj67-Y",
        "outputId": "04438a62-9ab0-4700-8de2-20f54d9ff5d3"
      },
      "execution_count": 8,
      "outputs": [
        {
          "output_type": "stream",
          "name": "stdout",
          "text": [
            "area =  [7420 8960 9960 7500 7420]\n",
            "bedrooms =  [4 4 3 4 4]\n",
            "bathrooms =  [2 4 2 2 1]\n",
            "stories =  [3 4 2 2 2]\n",
            "parking =  [2 3 2 3 2]\n",
            "training prices =  [13300000 12250000 12250000 12215000 11410000]\n",
            "validation prices =  [3290000 3290000 3255000 3255000 3234000]\n",
            "mainroad =  [1, 1, 1, 1, 1]\n",
            "guestroom =  [0, 0, 0, 0, 1]\n",
            "basement =  [0, 0, 1, 1, 1]\n",
            "hotwaterheating =  [0, 0, 0, 0, 0]\n",
            "airconditioning =  [1, 1, 0, 1, 1]\n",
            "prefarea =  [1, 0, 1, 1, 0]\n"
          ]
        }
      ]
    },
    {
      "cell_type": "code",
      "source": [
        "if normalizedData == True:\n",
        "  area = normalize(area)\n",
        "  bedrooms = normalize(bedrooms)\n",
        "  bathrooms = normalize(bathrooms)\n",
        "  stories = normalize(stories)\n",
        "  parking = normalize(parking)\n",
        "  pricesTraining = normalize(pricesTraining)\n",
        "  pricesValidation = normalize(pricesValidation)\n",
        "  if extraInputs == True:\n",
        "    mainroad = normalize(mainroad)\n",
        "    guestroom = normalize(guestroom)\n",
        "    basement = normalize(basement)\n",
        "    hotwaterheating = normalize(hotwaterheating)\n",
        "    airconditioning = normalize(airconditioning)\n",
        "    prefarea = normalize(prefarea)\n",
        "  print(area[:5])\n",
        "  print(max(area))\n",
        "  print(min(area))"
      ],
      "metadata": {
        "id": "OXXxqv7AZrKr"
      },
      "execution_count": 9,
      "outputs": []
    },
    {
      "cell_type": "code",
      "source": [
        "if standardizedData == True:\n",
        "  area = standardize(area)\n",
        "  bedrooms = standardize(bedrooms)\n",
        "  bathrooms = standardize(bathrooms)\n",
        "  stories = standardize(stories)\n",
        "  parking = standardize(parking)\n",
        "  pricesTraining = standardize(pricesTraining)\n",
        "  pricesValidation = standardize(pricesValidation)\n",
        "  if extraInputs == True:\n",
        "    mainroad = standardize(mainroad)\n",
        "    guestroom = standardize(guestroom)\n",
        "    basement = standardize(basement)\n",
        "    hotwaterheating = standardize(hotwaterheating)\n",
        "    airconditioning = standardize(airconditioning)\n",
        "    prefarea = standardize(prefarea)\n",
        "  print(area[:5])\n",
        "  print(max(area))\n",
        "  print(min(area))"
      ],
      "metadata": {
        "colab": {
          "base_uri": "https://localhost:8080/"
        },
        "id": "cMlMOVS3sL88",
        "outputId": "82dc0c75-86e0-45e1-f6f7-ee8fc4293a6c"
      },
      "execution_count": 10,
      "outputs": [
        {
          "output_type": "stream",
          "name": "stdout",
          "text": [
            "[1.0467262882352135, 1.7570095257333962, 2.2182324072257225, 1.0836241187545996, 1.0467262882352135]\n",
            "5.09626318773784\n",
            "-1.61452973797551\n"
          ]
        }
      ]
    },
    {
      "cell_type": "code",
      "source": [
        "plt.scatter(area[:numTrainingRows],pricesTraining,color='tab:blue',label='area')\n",
        "plt.scatter(bedrooms[:numTrainingRows],pricesTraining,color='tab:orange',label='bedrooms')\n",
        "plt.scatter(bathrooms[:numTrainingRows],pricesTraining,color='tab:green',label='bathrooms')\n",
        "plt.scatter(stories[:numTrainingRows],pricesTraining,color='tab:red',label='stories')\n",
        "plt.scatter(parking[:numTrainingRows],pricesTraining,color='tab:purple',label='parking')\n",
        "\n",
        "if extraInputs == True:\n",
        "  plt.scatter(mainroad[:numTrainingRows],pricesTraining,color='tab:brown',label='mainroad')\n",
        "  plt.scatter(guestroom[:numTrainingRows],pricesTraining,color='tab:pink',label='guestroom')\n",
        "  plt.scatter(basement[:numTrainingRows],pricesTraining,color='tab:gray',label='basement')\n",
        "  plt.scatter(hotwaterheating[:numTrainingRows],pricesTraining,color='tab:olive',label='hotwaterheating')\n",
        "  plt.scatter(airconditioning[:numTrainingRows],pricesTraining,color='tab:cyan',label='airconditioning')\n",
        "  plt.scatter(prefarea[:numTrainingRows],pricesTraining,color='gold',label='prefarea')\n",
        "\n",
        "plt.grid() \n",
        "plt.rcParams[\"figure.figsize\"] = (10,6)\n",
        "plt.xlabel('input variables')\n",
        "plt.ylabel('output variable')\n",
        "plt.title('Scatter Plot of Processed Training Data')\n",
        "plt.legend(bbox_to_anchor = (1.25, 1), loc='upper right')\n",
        "\n",
        "#all these if-statements just determine the title of the plot for the report\n",
        "if standardizedData == True:\n",
        "  dataProcessingTitle = 'Standardized Data'\n",
        "elif normalizedData == True:\n",
        "  dataProcessingTitle = 'Normalized Data'\n",
        "else:\n",
        "  dataProcessingTitle = 'Raw Data'\n",
        "\n",
        "dataExtraTitle = ' with Part A Columns'\n",
        "if extraInputs == True:\n",
        "  dataExtraTitle = ' with Part A and B Columns'\n",
        "\n",
        "plt.title('Scatter Plot of ' + dataProcessingTitle + dataExtraTitle)"
      ],
      "metadata": {
        "colab": {
          "base_uri": "https://localhost:8080/",
          "height": 422
        },
        "id": "mGHQ7X0P-9l-",
        "outputId": "05cded9a-38f1-473d-c102-5c266dd844b4"
      },
      "execution_count": 22,
      "outputs": [
        {
          "output_type": "execute_result",
          "data": {
            "text/plain": [
              "Text(0.5, 1.0, 'Scatter Plot of Standardized Data with Part A and B Columns')"
            ]
          },
          "metadata": {},
          "execution_count": 22
        },
        {
          "output_type": "display_data",
          "data": {
            "text/plain": [
              "<Figure size 720x432 with 1 Axes>"
            ],
            "image/png": "[encoded data removed]"
          },
          "metadata": {
            "needs_background": "light"
          }
        }
      ]
    },
    {
      "cell_type": "code",
      "source": [
        "xOnes = np.ones((M, 1)) \n",
        "xOnes[:5]"
      ],
      "metadata": {
        "colab": {
          "base_uri": "https://localhost:8080/"
        },
        "id": "hPRH41NOA57_",
        "outputId": "e345e5b1-2078-488c-e652-20443ba6f4b1"
      },
      "execution_count": 12,
      "outputs": [
        {
          "output_type": "execute_result",
          "data": {
            "text/plain": [
              "array([[1.],\n",
              "       [1.],\n",
              "       [1.],\n",
              "       [1.],\n",
              "       [1.]])"
            ]
          },
          "metadata": {},
          "execution_count": 12
        }
      ]
    },
    {
      "cell_type": "code",
      "source": [
        "areaVertical = np.array(area).reshape((M, 1))\n",
        "bedroomsVertical = np.array(bedrooms).reshape((M, 1))\n",
        "bathroomsVertical = np.array(bathrooms).reshape((M, 1))\n",
        "storiesVertical = np.array(stories).reshape((M, 1))\n",
        "parkingVertical = np.array(parking).reshape((M, 1))\n",
        "\n",
        "if extraInputs == True:\n",
        "  mainroadVertical = np.array(mainroad).reshape((M, 1))\n",
        "  guestroomVertical = np.array(guestroom).reshape((M, 1))\n",
        "  basementVertical = np.array(basement).reshape((M, 1))\n",
        "  hotwaterheatingVertical = np.array(hotwaterheating).reshape((M, 1))\n",
        "  airconditioningVertical = np.array(airconditioning).reshape((M, 1))\n",
        "  prefareaVertical = np.array(prefarea).reshape((M, 1))\n",
        "\n",
        "print(areaVertical[:5])"
      ],
      "metadata": {
        "colab": {
          "base_uri": "https://localhost:8080/"
        },
        "id": "3wNHs2GodTwT",
        "outputId": "325fad35-99b5-4bf6-a66d-3f64e403c9a2"
      },
      "execution_count": 13,
      "outputs": [
        {
          "output_type": "stream",
          "name": "stdout",
          "text": [
            "[[1.04672629]\n",
            " [1.75700953]\n",
            " [2.21823241]\n",
            " [1.08362412]\n",
            " [1.04672629]]\n"
          ]
        }
      ]
    },
    {
      "cell_type": "code",
      "source": [
        "areaFeatures = np.hstack((xOnes,areaVertical))\n",
        "bedroomsFeatures = np.hstack((xOnes,bedroomsVertical))\n",
        "bathroomsFeatures = np.hstack((xOnes,bathroomsVertical))\n",
        "storiesFeatures = np.hstack((xOnes,storiesVertical))\n",
        "parkingFeatures = np.hstack((xOnes,parkingVertical))\n",
        "\n",
        "if extraInputs == True:\n",
        "  mainroadFeatures = np.hstack((xOnes,mainroadVertical))\n",
        "  guestroomFeatures = np.hstack((xOnes,guestroomVertical))\n",
        "  basementFeatures = np.hstack((xOnes,basementVertical))\n",
        "  hotwaterheatingFeatures = np.hstack((xOnes,hotwaterheatingVertical))\n",
        "  airconditioningFeatures = np.hstack((xOnes,airconditioningVertical))\n",
        "  prefareaFeatures = np.hstack((xOnes,prefareaVertical))\n",
        "\n",
        "areaFeatures[:5]"
      ],
      "metadata": {
        "colab": {
          "base_uri": "https://localhost:8080/"
        },
        "id": "hN6kDSKGCuQe",
        "outputId": "08abfb6d-0bf4-4398-ad41-c45cc44b0e3e"
      },
      "execution_count": 14,
      "outputs": [
        {
          "output_type": "execute_result",
          "data": {
            "text/plain": [
              "array([[1.        , 1.04672629],\n",
              "       [1.        , 1.75700953],\n",
              "       [1.        , 2.21823241],\n",
              "       [1.        , 1.08362412],\n",
              "       [1.        , 1.04672629]])"
            ]
          },
          "metadata": {},
          "execution_count": 14
        }
      ]
    },
    {
      "cell_type": "code",
      "source": [
        "features = np.hstack((xOnes,areaVertical,bedroomsVertical,bathroomsVertical,storiesVertical,parkingVertical))\n",
        "\n",
        "if extraInputs == True:\n",
        "  features = np.hstack((features,mainroadFeatures,guestroomFeatures,basementFeatures,hotwaterheatingFeatures,airconditioningFeatures,prefareaFeatures))\n",
        "\n",
        "features[:5]"
      ],
      "metadata": {
        "colab": {
          "base_uri": "https://localhost:8080/"
        },
        "id": "Y8FlRZPu8enh",
        "outputId": "c52e5c72-2c37-4838-f89a-f6482f92a8c7"
      },
      "execution_count": 15,
      "outputs": [
        {
          "output_type": "execute_result",
          "data": {
            "text/plain": [
              "array([[ 1.        ,  1.04672629,  1.40341936,  1.42181174,  1.37821692,\n",
              "         1.51769249,  1.        ,  0.40562287,  1.        , -0.46531479,\n",
              "         1.        , -0.73453933,  1.        , -0.2192645 ,  1.        ,\n",
              "         1.4726183 ,  1.        ,  1.80494113],\n",
              "       [ 1.        ,  1.75700953,  1.40341936,  5.40580863,  2.53202371,\n",
              "         2.67940935,  1.        ,  0.40562287,  1.        , -0.46531479,\n",
              "         1.        , -0.73453933,  1.        , -0.2192645 ,  1.        ,\n",
              "         1.4726183 ,  1.        , -0.55403469],\n",
              "       [ 1.        ,  2.21823241,  0.04727831,  1.42181174,  0.22441013,\n",
              "         1.51769249,  1.        ,  0.40562287,  1.        , -0.46531479,\n",
              "         1.        ,  1.3613975 ,  1.        , -0.2192645 ,  1.        ,\n",
              "        -0.67906259,  1.        ,  1.80494113],\n",
              "       [ 1.        ,  1.08362412,  1.40341936,  1.42181174,  0.22441013,\n",
              "         2.67940935,  1.        ,  0.40562287,  1.        , -0.46531479,\n",
              "         1.        ,  1.3613975 ,  1.        , -0.2192645 ,  1.        ,\n",
              "         1.4726183 ,  1.        ,  1.80494113],\n",
              "       [ 1.        ,  1.04672629,  1.40341936, -0.57018671,  0.22441013,\n",
              "         1.51769249,  1.        ,  0.40562287,  1.        ,  2.14908276,\n",
              "         1.        ,  1.3613975 ,  1.        , -0.2192645 ,  1.        ,\n",
              "         1.4726183 ,  1.        , -0.55403469]])"
            ]
          },
          "metadata": {},
          "execution_count": 15
        }
      ]
    },
    {
      "cell_type": "code",
      "source": [
        "theta = np.zeros(features.shape[1])\n",
        "theta[:]"
      ],
      "metadata": {
        "colab": {
          "base_uri": "https://localhost:8080/"
        },
        "id": "nk0Zk-czD_F-",
        "outputId": "df899d7d-4b39-4e42-a038-6a28c0785c77"
      },
      "execution_count": 16,
      "outputs": [
        {
          "output_type": "execute_result",
          "data": {
            "text/plain": [
              "array([0., 0., 0., 0., 0., 0., 0., 0., 0., 0., 0., 0., 0., 0., 0., 0., 0.,\n",
              "       0.])"
            ]
          },
          "metadata": {},
          "execution_count": 16
        }
      ]
    },
    {
      "cell_type": "code",
      "source": [
        "cost = computeCost(features[:numTrainingRows], pricesTraining, theta) \n",
        "print('The cost for given values of theta =', cost) "
      ],
      "metadata": {
        "colab": {
          "base_uri": "https://localhost:8080/"
        },
        "id": "B4parZOnESbt",
        "outputId": "f55ebab6-e763-4acb-e823-2c6ef8614986"
      },
      "execution_count": 17,
      "outputs": [
        {
          "output_type": "stream",
          "name": "stdout",
          "text": [
            "The cost for given values of theta = 0.5000000000000006\n"
          ]
        }
      ]
    },
    {
      "cell_type": "code",
      "source": [
        "theta = np.zeros(features.shape[1])"
      ],
      "metadata": {
        "id": "0SWPCIyoFokF"
      },
      "execution_count": 18,
      "outputs": []
    },
    {
      "cell_type": "code",
      "source": [
        "newTheta, trainingCostHistory, thetaHistory = gradientDescent(features[:numTrainingRows], pricesTraining, theta, alpha, iterations) \n",
        "\n",
        "print('Final value of areaTheta =', newTheta) \n",
        "print('costHistory =', trainingCostHistory)"
      ],
      "metadata": {
        "colab": {
          "base_uri": "https://localhost:8080/"
        },
        "id": "GWmKVXLzFsuu",
        "outputId": "b73d050f-7d62-43fe-81f1-11b2ca10795c"
      },
      "execution_count": 19,
      "outputs": [
        {
          "output_type": "stream",
          "name": "stdout",
          "text": [
            "Final value of areaTheta = [-0.02861913  0.28623311  0.04995571  0.28204667  0.21897398  0.13653444\n",
            " -0.02861913  0.10556046 -0.02861913  0.06399976 -0.02861913  0.08579936\n",
            " -0.02861913  0.10684932 -0.02861913  0.2088319  -0.02861913  0.13134662]\n",
            "costHistory = [0.49399281 0.48811563 0.48236509 ... 0.19708617 0.19708616 0.19708614]\n"
          ]
        }
      ]
    },
    {
      "cell_type": "markdown",
      "source": [
        "Validation Data Training:"
      ],
      "metadata": {
        "id": "3lxtte7UCvUq"
      }
    },
    {
      "cell_type": "code",
      "source": [
        "validationCostHistory = np.zeros(iterations)\n",
        "for i in range(iterations):\n",
        "  validationCostHistory[i] = computeCost(features[numTrainingRows:],pricesValidation,thetaHistory[i])\n",
        "\n",
        "print('validationCostHistory =', validationCostHistory)"
      ],
      "metadata": {
        "colab": {
          "base_uri": "https://localhost:8080/"
        },
        "id": "DKQTmNcpB1ow",
        "outputId": "d763dbc4-5cc9-4316-f86f-5957c4af3fac"
      },
      "execution_count": 20,
      "outputs": [
        {
          "output_type": "stream",
          "name": "stdout",
          "text": [
            "validationCostHistory = [0.125      0.12478194 0.12458637 ... 0.24458691 0.24458702 0.24458713]\n"
          ]
        }
      ]
    },
    {
      "cell_type": "code",
      "source": [
        "plt.plot(trainingCostHistory,color='tab:blue',label='training data loss')\n",
        "plt.plot(validationCostHistory,color='tab:red',label='validation data loss')\n",
        "plt.grid()\n",
        "plt.rcParams[\"figure.figsize\"] = (10,6)\n",
        "plt.xlabel('iterations')\n",
        "plt.ylabel('cost')\n",
        "plt.legend()\n",
        "\n",
        "#all these if-statements just determine the title of the graph for the report\n",
        "if standardizedData == True:\n",
        "  dataProcessingTitle = 'Standardized Data'\n",
        "elif normalizedData == True:\n",
        "  dataProcessingTitle = 'Normalized Data'\n",
        "else:\n",
        "  dataProcessingTitle = 'Raw Data'\n",
        "\n",
        "dataExtraTitle = ' with Part A Columns'\n",
        "if extraInputs == True:\n",
        "  dataExtraTitle = ' with Part A and B Columns'\n",
        "\n",
        "dataRegTitle = ''\n",
        "if not regularization == 0:\n",
        "  dataRegTitle = ' with Regularization'\n",
        "\n",
        "plt.title('Training Vs. Validation Loss on ' + dataProcessingTitle + dataRegTitle + dataExtraTitle)"
      ],
      "metadata": {
        "colab": {
          "base_uri": "https://localhost:8080/",
          "height": 422
        },
        "id": "L9So-wGWAO_R",
        "outputId": "316db59a-f401-49e6-8e02-2f55038ab501"
      },
      "execution_count": 21,
      "outputs": [
        {
          "output_type": "execute_result",
          "data": {
            "text/plain": [
              "Text(0.5, 1.0, 'Training Vs. Validation Loss on Standardized Data with Regularization with Part A and B Columns')"
            ]
          },
          "metadata": {},
          "execution_count": 21
        },
        {
          "output_type": "display_data",
          "data": {
            "text/plain": [
              "<Figure size 720x432 with 1 Axes>"
            ],
            "image/png": "[encoded data removed]"
          },
          "metadata": {
            "needs_background": "light"
          }
        }
      ]
    }
  ]
}