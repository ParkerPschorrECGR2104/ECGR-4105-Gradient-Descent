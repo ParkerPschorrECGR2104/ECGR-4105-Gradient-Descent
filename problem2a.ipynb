{
  "nbformat": 4,
  "nbformat_minor": 0,
  "metadata": {
    "colab": {
      "provenance": []
    },
    "kernelspec": {
      "name": "python3",
      "display_name": "Python 3"
    },
    "language_info": {
      "name": "python"
    }
  },
  "cells": [
    {
      "cell_type": "code",
      "execution_count": 1,
      "metadata": {
        "id": "WYyag1_u6q2R"
      },
      "outputs": [],
      "source": [
        "import numpy as np \n",
        "import pandas as pd \n",
        "import matplotlib.pyplot as plt\n",
        "from sklearn import preprocessing"
      ]
    },
    {
      "cell_type": "code",
      "source": [
        "df =pd.read_csv('/content/Housing.csv')\n",
        "df.head() # To get first n rows from the dataset default value of n is 5 \n",
        "M=len(df)\n",
        "print(M)\n",
        "\n",
        "trainingPercent = 0.8\n",
        "numTrainingRows= int(len(df)*trainingPercent)\n",
        "numTrainingRows"
      ],
      "metadata": {
        "colab": {
          "base_uri": "https://localhost:8080/"
        },
        "id": "dgyjvHnh65EI",
        "outputId": "6ec0d9f1-1017-4eaf-c595-a7a34dc884c2"
      },
      "execution_count": 2,
      "outputs": [
        {
          "output_type": "stream",
          "name": "stdout",
          "text": [
            "545\n"
          ]
        },
        {
          "output_type": "execute_result",
          "data": {
            "text/plain": [
              "436"
            ]
          },
          "metadata": {},
          "execution_count": 2
        }
      ]
    },
    {
      "cell_type": "code",
      "source": [
        "area = df.values[:, 1]\n",
        "bedrooms = df.values[:, 2]\n",
        "bathrooms = df.values[:, 3]\n",
        "stories = df.values[:, 4]\n",
        "parking = df.values[:, 10]\n",
        "pricesTraining = df.values[:numTrainingRows, 0]\n",
        "pricesValidation = df.values[numTrainingRows:,0]\n",
        "print('area = ', area[:5])\n",
        "print('bedrooms = ', bedrooms[: 5])\n",
        "print('bathrooms = ', bathrooms[: 5])\n",
        "print('stories = ', stories[: 5]) \n",
        "print('parking = ', parking[: 5])\n",
        "print('training prices = ', pricesTraining[: 5])\n",
        "print('validation prices = ', pricesValidation[: 5])"
      ],
      "metadata": {
        "colab": {
          "base_uri": "https://localhost:8080/"
        },
        "id": "GLiDY5Yj67-Y",
        "outputId": "ebed4119-a941-4b5b-f226-ccee36ab66be"
      },
      "execution_count": 3,
      "outputs": [
        {
          "output_type": "stream",
          "name": "stdout",
          "text": [
            "area =  [7420 8960 9960 7500 7420]\n",
            "bedrooms =  [4 4 3 4 4]\n",
            "bathrooms =  [2 4 2 2 1]\n",
            "stories =  [3 4 2 2 2]\n",
            "parking =  [2 3 2 3 2]\n",
            "training prices =  [13300000 12250000 12250000 12215000 11410000]\n",
            "validation prices =  [3290000 3290000 3255000 3255000 3234000]\n"
          ]
        }
      ]
    },
    {
      "cell_type": "code",
      "source": [
        "def normalize(numbers):\n",
        "    return [(i - min(numbers)) / (max(numbers) - min(numbers)) for i in numbers]"
      ],
      "metadata": {
        "id": "lisM3ze5ZmDC"
      },
      "execution_count": 4,
      "outputs": []
    },
    {
      "cell_type": "code",
      "source": [
        "def standardize(numbers):\n",
        "  mean = sum(numbers) / len(numbers)\n",
        "  stddev = ( sum([((i - mean) ** 2) for i in numbers]) / len(numbers) ) ** 0.5\n",
        "  return [(i - mean) / stddev for i in numbers]"
      ],
      "metadata": {
        "id": "-PBJCrwcsGS9"
      },
      "execution_count": 5,
      "outputs": []
    },
    {
      "cell_type": "code",
      "source": [
        "#run this block to normalize the input data\n",
        "area = normalize(area)\n",
        "bedrooms = normalize(bedrooms)\n",
        "bathrooms = normalize(bathrooms)\n",
        "stories = normalize(stories)\n",
        "parking = normalize(parking)\n",
        "pricesTraining = normalize(pricesTraining)\n",
        "pricesValidation = normalize(pricesValidation)\n",
        "print(area[:5])\n",
        "print(max(area))\n",
        "print(min(area))"
      ],
      "metadata": {
        "colab": {
          "base_uri": "https://localhost:8080/"
        },
        "id": "OXXxqv7AZrKr",
        "outputId": "fee40585-f3e6-4c12-b30f-1380dc10b2b5"
      },
      "execution_count": 6,
      "outputs": [
        {
          "output_type": "stream",
          "name": "stdout",
          "text": [
            "[0.3965635738831615, 0.5024054982817869, 0.5711340206185567, 0.4020618556701031, 0.3965635738831615]\n",
            "1.0\n",
            "0.0\n"
          ]
        }
      ]
    },
    {
      "cell_type": "code",
      "source": [
        "#run this block to standardize the input data\n",
        "area = standardize(area)\n",
        "bedrooms = standardize(bedrooms)\n",
        "bathrooms = standardize(bathrooms)\n",
        "stories = standardize(stories)\n",
        "parking = standardize(parking)\n",
        "pricesTraining = standardize(pricesTraining)\n",
        "pricesValidation = standardize(pricesValidation)\n",
        "print(area[:5])\n",
        "print(max(area))\n",
        "print(min(area))"
      ],
      "metadata": {
        "colab": {
          "base_uri": "https://localhost:8080/"
        },
        "id": "cMlMOVS3sL88",
        "outputId": "4cc384d2-1e50-4093-af28-5aa0122e60de"
      },
      "execution_count": 7,
      "outputs": [
        {
          "output_type": "stream",
          "name": "stdout",
          "text": [
            "[1.0467262882352084, 1.7570095257333913, 2.2182324072257176, 1.0836241187545947, 1.0467262882352084]\n",
            "5.096263187737835\n",
            "-1.6145297379755157\n"
          ]
        }
      ]
    },
    {
      "cell_type": "code",
      "source": [
        "plt.scatter(area[:numTrainingRows],pricesTraining,color='tab:blue',label='area')\n",
        "plt.scatter(bedrooms[:numTrainingRows],pricesTraining,color='tab:orange',label='bedrooms')\n",
        "plt.scatter(bathrooms[:numTrainingRows],pricesTraining,color='tab:green',label='bathrooms')\n",
        "plt.scatter(stories[:numTrainingRows],pricesTraining,color='tab:red',label='stories')\n",
        "plt.scatter(parking[:numTrainingRows],pricesTraining,color='tab:purple',label='parking')\n",
        "plt.grid() \n",
        "plt.rcParams[\"figure.figsize\"] = (10,6)\n",
        "plt.xlabel('input variables')\n",
        "plt.ylabel('output variable')\n",
        "plt.title('Scatter Plot of Processed Training Data')\n",
        "plt.legend()"
      ],
      "metadata": {
        "colab": {
          "base_uri": "https://localhost:8080/",
          "height": 313
        },
        "id": "mGHQ7X0P-9l-",
        "outputId": "0bbd10b0-0f8c-4bee-bc89-74495d739a38"
      },
      "execution_count": 7,
      "outputs": [
        {
          "output_type": "execute_result",
          "data": {
            "text/plain": [
              "<matplotlib.legend.Legend at 0x7fd8d64373a0>"
            ]
          },
          "metadata": {},
          "execution_count": 7
        },
        {
          "output_type": "display_data",
          "data": {
            "text/plain": [
              "<Figure size 432x288 with 1 Axes>"
            ],
            "image/png": "[encoded data removed]"
          },
          "metadata": {
            "needs_background": "light"
          }
        }
      ]
    },
    {
      "cell_type": "code",
      "source": [
        "xOnes = np.ones((M, 1)) \n",
        "xOnes[:5]"
      ],
      "metadata": {
        "colab": {
          "base_uri": "https://localhost:8080/"
        },
        "id": "hPRH41NOA57_",
        "outputId": "e7de5fd1-b7ea-4346-a31d-6adea442d484"
      },
      "execution_count": 8,
      "outputs": [
        {
          "output_type": "execute_result",
          "data": {
            "text/plain": [
              "array([[1.],\n",
              "       [1.],\n",
              "       [1.],\n",
              "       [1.],\n",
              "       [1.]])"
            ]
          },
          "metadata": {},
          "execution_count": 8
        }
      ]
    },
    {
      "cell_type": "code",
      "source": [
        "areaVertical = np.array(area).reshape((M, 1))\n",
        "bedroomsVertical = np.array(bedrooms).reshape((M, 1))\n",
        "bathroomsVertical = np.array(bathrooms).reshape((M, 1))\n",
        "storiesVertical = np.array(stories).reshape((M, 1))\n",
        "parkingVertical = np.array(parking).reshape((M, 1))\n",
        "print(areaVertical[:5])"
      ],
      "metadata": {
        "colab": {
          "base_uri": "https://localhost:8080/"
        },
        "id": "3wNHs2GodTwT",
        "outputId": "e7d49691-c1cf-4272-9e37-59e727ac1c63"
      },
      "execution_count": 9,
      "outputs": [
        {
          "output_type": "stream",
          "name": "stdout",
          "text": [
            "[[0.39656357]\n",
            " [0.5024055 ]\n",
            " [0.57113402]\n",
            " [0.40206186]\n",
            " [0.39656357]]\n"
          ]
        }
      ]
    },
    {
      "cell_type": "code",
      "source": [
        "areaFeatures = np.hstack((xOnes,areaVertical))\n",
        "bedroomsFeatures = np.hstack((xOnes,bedroomsVertical))\n",
        "bathroomsFeatures = np.hstack((xOnes,bathroomsVertical))\n",
        "storiesFeatures = np.hstack((xOnes,storiesVertical))\n",
        "parkingFeatures = np.hstack((xOnes,parkingVertical))\n",
        "areaFeatures[:5]"
      ],
      "metadata": {
        "colab": {
          "base_uri": "https://localhost:8080/"
        },
        "id": "hN6kDSKGCuQe",
        "outputId": "2460956e-aa57-444b-9fe5-46747790ca6d"
      },
      "execution_count": 10,
      "outputs": [
        {
          "output_type": "execute_result",
          "data": {
            "text/plain": [
              "array([[1.        , 0.39656357],\n",
              "       [1.        , 0.5024055 ],\n",
              "       [1.        , 0.57113402],\n",
              "       [1.        , 0.40206186],\n",
              "       [1.        , 0.39656357]])"
            ]
          },
          "metadata": {},
          "execution_count": 10
        }
      ]
    },
    {
      "cell_type": "code",
      "source": [
        "features = np.hstack((xOnes,areaVertical,bedroomsVertical,bathroomsVertical,storiesVertical,parkingVertical))\n",
        "features[:5]"
      ],
      "metadata": {
        "colab": {
          "base_uri": "https://localhost:8080/"
        },
        "id": "Y8FlRZPu8enh",
        "outputId": "4f961a58-8848-4c43-a192-39952d375d14"
      },
      "execution_count": 11,
      "outputs": [
        {
          "output_type": "execute_result",
          "data": {
            "text/plain": [
              "array([[1.        , 0.39656357, 0.6       , 0.33333333, 0.66666667,\n",
              "        0.66666667],\n",
              "       [1.        , 0.5024055 , 0.6       , 1.        , 1.        ,\n",
              "        1.        ],\n",
              "       [1.        , 0.57113402, 0.4       , 0.33333333, 0.33333333,\n",
              "        0.66666667],\n",
              "       [1.        , 0.40206186, 0.6       , 0.33333333, 0.33333333,\n",
              "        1.        ],\n",
              "       [1.        , 0.39656357, 0.6       , 0.        , 0.33333333,\n",
              "        0.66666667]])"
            ]
          },
          "metadata": {},
          "execution_count": 11
        }
      ]
    },
    {
      "cell_type": "code",
      "source": [
        "theta = np.zeros(features.shape[1])\n",
        "theta"
      ],
      "metadata": {
        "colab": {
          "base_uri": "https://localhost:8080/"
        },
        "id": "nk0Zk-czD_F-",
        "outputId": "546dd09d-b2a0-407b-a77a-ee0ac2cf28ab"
      },
      "execution_count": 12,
      "outputs": [
        {
          "output_type": "execute_result",
          "data": {
            "text/plain": [
              "array([0., 0., 0., 0., 0., 0.])"
            ]
          },
          "metadata": {},
          "execution_count": 12
        }
      ]
    },
    {
      "cell_type": "code",
      "source": [
        "def computeCost(xFeatures, y, theta): \n",
        "  \"\"\" \n",
        "  Compute cost for linear regression. \n",
        " \n",
        "  Input Parameters \n",
        "  ---------------- \n",
        "  X : 2D array where each row represent the training example and each column represent \n",
        "      m= number of training examples \n",
        "      n= number of features (including X_0 column of ones) \n",
        "  y : 1D array of labels/target value for each traing example. dimension(1 x m) \n",
        " \n",
        "  theta : 1D array of fitting parameters or weights. Dimension (1 x n) \n",
        " \n",
        "  Output Parameters \n",
        "  ----------------- \n",
        "  J : Scalar value. \n",
        "  \"\"\" \n",
        "  predictions = xFeatures.dot(theta)\n",
        "  \n",
        "  errors = np.subtract(predictions, y) \n",
        "  sqrErrors = np.square(errors) \n",
        "  J = 1 / (2 * numTrainingRows) * np.sum(sqrErrors)\n",
        "\n",
        "  \n",
        "  return J "
      ],
      "metadata": {
        "id": "_ohcnydAELjF"
      },
      "execution_count": 13,
      "outputs": []
    },
    {
      "cell_type": "code",
      "source": [
        "cost = computeCost(features[:numTrainingRows], pricesTraining, theta) \n",
        "print('The cost for given values of theta =', cost) "
      ],
      "metadata": {
        "colab": {
          "base_uri": "https://localhost:8080/"
        },
        "id": "B4parZOnESbt",
        "outputId": "502db84b-5ede-4cb3-ed94-561e6ce61c57"
      },
      "execution_count": 14,
      "outputs": [
        {
          "output_type": "stream",
          "name": "stdout",
          "text": [
            "The cost for given values of theta = 0.034770669813826385\n"
          ]
        }
      ]
    },
    {
      "cell_type": "code",
      "source": [
        "def gradientDescent(X, y, theta, alpha, iterations): \n",
        "  \"\"\" \n",
        "  Compute cost for linear regression. \n",
        " \n",
        "  Input Parameters \n",
        "  ---------------- \n",
        "  X : 2D array where each row represent the training example and each column represent \n",
        "      m= number of training examples \n",
        "      n= number of features (including X_0 column of ones) \n",
        "  y : 1D array of labels/target value for each traing example. dimension(m x 1) \n",
        "  theta : 1D array of fitting parameters or weights. Dimension (1 x n) \n",
        "  alpha : Learning rate. Scalar value \n",
        "  iterations: No of iterations. Scalar value.  \n",
        " \n",
        "  Output Parameters \n",
        "  ----------------- \n",
        "  theta : Final Value. 1D array of fitting parameters or weights. Dimension (1 x n) \n",
        "  costHistory: Conatins value of cost for each iteration. 1D array. Dimansion(m x 1)  \"\"\" \n",
        "  costHistory = np.zeros(iterations)\n",
        "  thetaHistory= np.zeros((iterations, features.shape[1]))\n",
        " \n",
        "  for i in range(iterations): \n",
        "    predictions = X.dot(theta) \n",
        "    errors = np.subtract(predictions, y) \n",
        "    sum_delta = (alpha / numTrainingRows) * X.transpose().dot(errors);\n",
        "    thetaHistory[i] = theta\n",
        "    theta = theta - sum_delta; \n",
        "    costHistory[i] = computeCost(X, y, theta)   \n",
        " \n",
        "  return theta, costHistory ,thetaHistory"
      ],
      "metadata": {
        "id": "wY-zmFsJFJ3O"
      },
      "execution_count": 15,
      "outputs": []
    },
    {
      "cell_type": "code",
      "source": [
        "theta = np.zeros(features.shape[1])\n",
        "iterations = 1500; \n",
        "alpha = 0.005;"
      ],
      "metadata": {
        "id": "0SWPCIyoFokF"
      },
      "execution_count": 16,
      "outputs": []
    },
    {
      "cell_type": "code",
      "source": [
        "newTheta, trainingCostHistory, thetaHistory = gradientDescent(features[:numTrainingRows], pricesTraining, theta, alpha, iterations) \n",
        "\n",
        "print('Final value of areaTheta =', newTheta) \n",
        "print('costHistory =', trainingCostHistory)"
      ],
      "metadata": {
        "colab": {
          "base_uri": "https://localhost:8080/"
        },
        "id": "GWmKVXLzFsuu",
        "outputId": "6a5f1736-d292-41fe-f21b-903dc5834cd7"
      },
      "execution_count": 17,
      "outputs": [
        {
          "output_type": "stream",
          "name": "stdout",
          "text": [
            "Final value of areaTheta = [0.08372725 0.09410926 0.067878   0.09094258 0.10978713 0.09495271]\n",
            "costHistory = [0.03445029 0.03413445 0.03382309 ... 0.00997732 0.00997628 0.00997524]\n"
          ]
        }
      ]
    },
    {
      "cell_type": "markdown",
      "source": [
        "Validation Data Training:"
      ],
      "metadata": {
        "id": "3lxtte7UCvUq"
      }
    },
    {
      "cell_type": "code",
      "source": [
        "validationCostHistory = np.zeros(iterations)\n",
        "for i in range(iterations):\n",
        "  validationCostHistory[i] = computeCost(features[numTrainingRows:],pricesValidation,thetaHistory[i])\n",
        "\n",
        "print('Final value of areaTheta =', newTheta) \n",
        "print('trainingCostHistory =', trainingCostHistory)"
      ],
      "metadata": {
        "colab": {
          "base_uri": "https://localhost:8080/"
        },
        "id": "DKQTmNcpB1ow",
        "outputId": "4c3e8beb-aa23-4828-fe55-256bf8d2860e"
      },
      "execution_count": 18,
      "outputs": [
        {
          "output_type": "stream",
          "name": "stdout",
          "text": [
            "Final value of areaTheta = [0.08372725 0.09410926 0.067878   0.09094258 0.10978713 0.09495271]\n",
            "trainingCostHistory = [0.03445029 0.03413445 0.03382309 ... 0.00997732 0.00997628 0.00997524]\n"
          ]
        }
      ]
    },
    {
      "cell_type": "code",
      "source": [
        "plt.plot(trainingCostHistory,color='tab:blue',label='training data loss')\n",
        "plt.plot(validationCostHistory,color='tab:red',label='validation data loss')\n",
        "plt.grid()\n",
        "plt.rcParams[\"figure.figsize\"] = (10,6)\n",
        "plt.xlabel('iterations')\n",
        "plt.ylabel('cost')\n",
        "plt.title('Training Vs. Validation Loss')\n",
        "plt.legend()"
      ],
      "metadata": {
        "colab": {
          "base_uri": "https://localhost:8080/",
          "height": 422
        },
        "id": "L9So-wGWAO_R",
        "outputId": "c54d733a-bb21-48af-8322-96d6c5c9de20"
      },
      "execution_count": 19,
      "outputs": [
        {
          "output_type": "execute_result",
          "data": {
            "text/plain": [
              "<matplotlib.legend.Legend at 0x7fd8d642aa90>"
            ]
          },
          "metadata": {},
          "execution_count": 19
        },
        {
          "output_type": "display_data",
          "data": {
            "text/plain": [
              "<Figure size 720x432 with 1 Axes>"
            ],
            "image/png": "[encoded data removed]"
          },
          "metadata": {
            "needs_background": "light"
          }
        }
      ]
    }
  ]
}